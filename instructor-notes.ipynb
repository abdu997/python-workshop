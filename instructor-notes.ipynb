{
 "cells": [
  {
   "cell_type": "markdown",
   "metadata": {},
   "source": [
    "# Welcome to the Python Beginner's Workshop\n",
    "\n",
    "## Introduction\n",
    "My name is Abdul Amoud, I'm a software developer at Tavan Systems, Tavan Systems is a software and business solutions company based in Ottawa, ON. Although, I work as a software developer, I studied Mathematics at uOttawa. I held a few software and web development positions at multiple organizations including the Government of Canada and the Bank of Canada. I have also served as a Teachers Assistant for a coding course through Carleton University and TrilogyEd.\n",
    "\n",
    "Which should serve as a testament that you need not a CS or SoftEng degree to author good code. Anyone of you can become a skilled programmer, all it takes is time and persistence.\n",
    "\n",
    "The purpose of this workshop is to get you familiar with programming. We chose Python because it's one of the easiest  Object Oriented Programming (OOP) languages, its use cases are limitless, it has many resources online, it's very popular among the software development community, and starting with Python will give you enough foundations to shift to another programming language.\n",
    "\n",
    "With Python you can build a website, write automation scripts to automate your daily life, process some data using data science techniques, run a machine learning algorithm, build mobile and desktop apps, build robots, and a thousand other use cases. \n",
    "\n",
    "### Are we going to cover all of that? \n",
    "The answer is no. We will cover the underlying fundemental methods and tools of Python such as objects, loops etc. With these methods and tools, you'll have enough knowledge to enter other niched topics such as ML and Web Development. \n",
    "\n",
    "Keep in mind, whether you're building a website or running a machine learning algorithm, you'll still be using these fundemental tools and methods. When you choose a programming niche, you're extending on these methods with new methods and techinques specific to that niche. For example, if you want to use Python for machine learning, you'll have to learn how to use the Keras or Tensor Flow extension. But you'll still be defining variables and using objects i.e. the material we will cover in this workshop.\n",
    "\n",
    "### Resources\n",
    "I based this workshop on the W3Schools Python Tutorial, because I believe its very beginner friendly, and to be frank, it's where I started with Python. However, it is not the exact same as I think some parts could be explained better, some parts can be omitted and some parts should have been added. Feel free to go through their tutorial [here](https://w3schools.com/python).\n",
    "\n",
    "### Let's get started!\n",
    "Any questions before we start? Anyone need to run to the washroom? No? Well alright then!\n",
    "\n",
    "#### What you will need\n",
    "1. An Integrated Development Environment (IDE): Please download VS Code [here](https://code.visualstudio.com/download).\n",
    "    * Add the code runner extension.\n",
    "    \n",
    "2. Python 3 or larger: Download it [here](https://www.python.org/downloads/).\n",
    "3. Download the course content [here](https://github.com/abdu997/python-workshop).\n",
    "    * Click \"Code\" \n",
    "    * Then click \"Download Zip\"\n",
    "    \n",
    "4. For Windows users, download Git Bash [here](https://gitforwindows.org/).\n",
    "\n",
    "*Windows users:* To find out whether your your system is a 32/64 Bit. Go to `Control Panel > System and Security > System`\n",
    "\n",
    "#### Our Flow\n",
    "This is how the workshop will work. \n",
    "\n",
    "1. I'll explain a concept or method. \n",
    "2. I'll show you an example. \n",
    "3. You'll complete a group activity.\n",
    "4. I'll explain the solution.\n",
    "4. Repeat."
   ]
  },
  {
   "cell_type": "markdown",
   "metadata": {},
   "source": [
    "## Getting familiar with the Bash Terminal\n",
    "Windows users open your Git Bash, Mac users open your Terminal app. Run the following command\n",
    "\n",
    "```sh\n",
    "$ python --version\n",
    "```\n",
    "This should return \"Python 3.x.x\" or similar. If it does, you may run your scripts using the \"python\" If returns \"Python 2.x.x\" or similar that means you're default python is version 2. For this workshop, we will be using Python 3, so you'll have to run the following command.\n",
    "```sh\n",
    "$ python3 --version\n",
    "```\n",
    "If this worked, you will have to run all of your scripts using \"python3\"."
   ]
  },
  {
   "source": [
    "## 01 Let's Run A Script\n",
    "The first function we will cover will be the `print()` function. This function will print whatever message we place in it, when the script runs. "
   ],
   "cell_type": "markdown",
   "metadata": {}
  },
  {
   "cell_type": "code",
   "execution_count": 3,
   "metadata": {
    "tags": []
   },
   "outputs": [
    {
     "output_type": "stream",
     "name": "stdout",
     "text": "Hello, World!\n"
    }
   ],
   "source": [
    "print(\"Hello, World!\")"
   ]
  },
  {
   "source": [
    "To run a python script, you will have to create a file that bears the extension `.py`, so your file name will be `filename.py`. You can then write your python code in the file. \n",
    "\n",
    "To run the file, open your Bash Terminal. You may open it in the VS code by clicking `Terminal` in the top bar, then clicking `New Terminal`.\n",
    "\n",
    "If you're a Windows user, don't forget to switch from `Command Terminal` to `Git Bash` or `Bash`.\n",
    "\n",
    "\n",
    "![Command line breakdown](Images/terminal-line.png)\n",
    "\n",
    "The image above offers a breakdown of a typical command line to run a python script.\n",
    "\n",
    "### What if the terminal isn't on the folder where my script is?\n",
    "Then you may change to the folder by running a `cd` Change Directory\n",
    "```sh \n",
    "$ cd toTheFolder\n",
    "```\n",
    "\n",
    "To move back \n",
    "```sh \n",
    "$ cd ..\n",
    "```\n"
   ],
   "cell_type": "markdown",
   "metadata": {}
  },
  {
   "source": [
    "### Activity 01\n",
    "Navigate to the Activities folder and open the `01-print.py`. Print whatever message you would like. And run the script."
   ],
   "cell_type": "markdown",
   "metadata": {}
  },
  {
   "source": [
    "## 02 Data Types\n",
    "| Data Type \t| Name       \t| Definition                                                                                                   \t| Example                                          \t|\n",
    "|-----------\t|------------\t|--------------------------------------------------------------------------------------------------------------\t|--------------------------------------------------\t|\n",
    "| `str`     \t| String     \t| Text type, always wrapped in quotation marks                                                                 \t| `\"Hello\"`                                        \t|\n",
    "| `int`     \t| Integer    \t| Whole numbers, NOT wrapped in quotation marks                                                                \t| `313`                                            \t|\n",
    "| `float`   \t| Float      \t| Decimal numbers, NOT wrapped in quotation marks                                                              \t| `21.43`                                          \t|\n",
    "| `complex` \t| Complex    \t| Complex numbers                                                                                              \t| `3 + 2j`                                         \t|\n",
    "| `list`    \t| List       \t| A list of elements. The elements can be other data types.                                                    \t| `[\"Mark\", \"Mike\", \"Julie\"]`                      \t|\n",
    "| `tuple`   \t| Tuple      \t| A tuple is a collection which is ordered and unchangeable. In Python tuples are written with round brackets. \t| `(\"Mark\", \"Mike\", \"Julie\")`                     \t|\n",
    "| `dict`    \t| Dictionary \t| An associative set of data. All data is in a `key: value` pair.                                              \t| `{ 'firstName': \"Abdul\", 'lastName': \"Amoud\" }` \t|\n",
    "| `bool`    \t| Boolean    \t| `True` or `False`                                                                                            \t| `True`                                           \t|\n",
    "\n",
    "And many more! But these are the most important ones, and they will be the ones we cover in this workshop.\n",
    "\n",
    "### Activity 02\n",
    "Navigate to the Activities folder and open the `01-datatypes.py`. Print a string, an integer, a list, and a dictionary.\n",
    "BONUS: Print the rest of the Data Types we covered."
   ],
   "cell_type": "markdown",
   "metadata": {}
  },
  {
   "source": [
    "## 03 Type Casting\n",
    "\n",
    "There may be times when you want to specify a type on to a variable. This can be done with casting. Python is an object-orientated language, and as such it uses classes to define data types, including its primitive types.\n",
    "\n",
    "Casting in python is therefore done using constructor functions:\n",
    "\n",
    "int() - constructs an integer number from an integer literal, a float literal (by rounding down to the previous whole number), or a string literal (providing the string represents a whole number)\n",
    "\n",
    "float() - constructs a float number from an integer literal, a float literal or a string literal (providing the string represents a float or an integer)\n",
    "\n",
    "str() - constructs a string from a wide variety of data types, including strings, integer literals and float literals [1]\n",
    "\n",
    "bool() - contructs a boolean from a data type, converts a truthy data type to `True` and falsey data types to `False`. Truthy values are non empty values. Falsey values are empty values such as an empty string `\"\"` or `0` or failed conditions `2 < 1`."
   ],
   "cell_type": "markdown",
   "metadata": {}
  },
  {
   "cell_type": "code",
   "execution_count": 9,
   "metadata": {},
   "outputs": [
    {
     "output_type": "execute_result",
     "data": {
      "text/plain": [
       "1"
      ]
     },
     "metadata": {},
     "execution_count": 9
    }
   ],
   "source": [
    "int(1)      # will be 1\n",
    "int(2.8)    # will be 2\n",
    "int(\"3\")    # will be 3\n",
    "\n",
    "float(1)    # will be 1.0\n",
    "float(2.8)  # will be 2.8\n",
    "float(\"3\")  # will be 3.0\n",
    "float(\"4.2\")# w will be 4.2\n",
    "\n",
    "str(\"s1\")   # will be 's1'\n",
    "str(2)      # will be '2'\n",
    "str(3.0)    # will be '3.0'\n",
    "\n",
    "bool(\"hello\") # will be True\n",
    "bool(0)   # will be False\n",
    "bool(\"False\") # what will this be?"
   ]
  },
  {
   "cell_type": "code",
   "execution_count": 1,
   "metadata": {},
   "outputs": [
    {
     "output_type": "execute_result",
     "data": {
      "text/plain": [
       "str"
      ]
     },
     "metadata": {},
     "execution_count": 1
    }
   ],
   "source": [
    "# To know which type is a object we use the type() function\n",
    "type(\"hello\")"
   ]
  },
  {
   "source": [
    "### Activity 03\n",
    "Navigate to the Activities folder and open the `01-casting.py`. Print a casted string, a casted integer, and a casted float"
   ],
   "cell_type": "markdown",
   "metadata": {}
  },
  {
   "source": [
    "## 04 Variables\n",
    "Variables are containers for storing data values. we use variables to store a value for later use. [2]\n"
   ],
   "cell_type": "markdown",
   "metadata": {}
  },
  {
   "cell_type": "code",
   "execution_count": null,
   "metadata": {},
   "outputs": [],
   "source": [
    "#Legal variable names:\n",
    "firstname = \"John\"\n",
    "first_name = \"John\"\n",
    "_first_name = \"John\"\n",
    "firstName = \"John\"\n",
    "FIRSTNAME = \"John\"\n",
    "firstname1 = \"John\"\n",
    "\n",
    "#Illegal variable names:\n",
    "2firstname = \"John\"\n",
    "first-name = \"John\"\n",
    "first name = \"John\""
   ]
  },
  {
   "cell_type": "code",
   "execution_count": null,
   "metadata": {},
   "outputs": [],
   "source": [
    "citrus, stone_fruit, berry = \"Orange\", \"Mango\", \"Cherry\"\n",
    "fruit = citrus  = \"Orange\"\n"
   ]
  },
  {
   "cell_type": "code",
   "execution_count": null,
   "metadata": {},
   "outputs": [],
   "source": [
    "patient_name = \"Mark\"\n",
    "patient_name = \"Gene\"\n",
    "# What is the patient's name?"
   ]
  },
  {
   "source": [
    "### Activity 04\n",
    "Navigate to the Activities folder and open the `04-variables.py`. Store the patient's vitals in aptly named variable.\n",
    "Body Temperature 37, Pulse Rate 154, Respiration Rate 13, Blood Pressure 120."
   ],
   "cell_type": "markdown",
   "metadata": {}
  },
  {
   "source": [
    "## 05 User Inputs\n",
    "Python's user `input()` function is used to prompt the user for scripts inputs. Let's say your code runs on some changing variables, you may use `input()` to fetch the values of these variables."
   ],
   "cell_type": "markdown",
   "metadata": {}
  },
  {
   "cell_type": "code",
   "execution_count": 1,
   "metadata": {},
   "outputs": [],
   "source": [
    "username = input(\"What is your name?\")"
   ]
  },
  {
   "source": [
    "### Activity 05\n",
    "Open the `05-userinput.py` script in the `Activities` folder. Write code that requests and prints a patient's name and their vitals."
   ],
   "cell_type": "markdown",
   "metadata": {}
  },
  {
   "source": [
    "## 06 String Formating\n",
    "Basically, we will be learning how to glue texts together. We will do so using the `.format()` function.\n"
   ],
   "cell_type": "markdown",
   "metadata": {}
  },
  {
   "cell_type": "code",
   "execution_count": 8,
   "metadata": {},
   "outputs": [
    {
     "output_type": "execute_result",
     "data": {
      "text/plain": [
       "\"The driver's name is Daniel Ricciardo, and he is 24 years old.\""
      ]
     },
     "metadata": {},
     "execution_count": 8
    }
   ],
   "source": [
    "driver_name = \"Lewis Hamilton\"\n",
    "age = 35\n",
    "\n",
    "message = \"The driver's name is {0}, and he is {1} years old.\"\n",
    "message.format(driver_name, age)\n",
    "\n",
    "# We can also do it this way\n",
    "message = \"The driver's name is {driver_name}, and he is {age} years old.\"\n",
    "message.format(driver_name = \"Daniel Ricciardo\" , age = 24)"
   ]
  },
  {
   "source": [
    "### Activity 06\n",
    "Open the 06-stringformatting.py script in the Activities folder. Concatenate a message to your best friend using `.format()`."
   ],
   "cell_type": "markdown",
   "metadata": {}
  },
  {
   "source": [
    "## 07 Operators and Conditions\n",
    "Operators are symbols that we use to evaluate a expression. Below is a list of Python operators.\n",
    "\n",
    "### Arithematic Operators\n",
    "\n",
    "| Operator \t| Function       \t      | Example  \t|\n",
    "|----------\t|------------------\t      |----------\t|\n",
    "| `+`      \t| Addition       \t      | `1 + 1` = `2`  \t|\n",
    "| `-`      \t| Subtraction    \t      | `3 - 1` = `2`  \t|\n",
    "| `*`      \t| Multiplication \t      | `2 * 2` = `4`  \t|\n",
    "| `/`      \t| Division       \t      | `6 / 2` = `3`  \t|\n",
    "| `//`      | Division and round down | `7 // 2` = `3`  \t|\n",
    "| `**`     \t| Exponential    \t      | `2 ** 3` \t|\n",
    "\n",
    "### Comparison Operators\n",
    "Comparison operators return a boolean as a result of the evaluation.\n",
    "\n",
    "| Operator \t| Function                  \t| Example  \t|\n",
    "|----------\t|---------------------------\t|----------\t|\n",
    "| `==`     \t| Exact equality            \t| `1 == 1` \t|\n",
    "| `!=`     \t| Inequality                \t| `3 != 1` \t|\n",
    "| `>`      \t| Larger than               \t| `3 > 2`  \t|\n",
    "| `<`      \t| Smaller than              \t| `2 < 6`  \t|\n",
    "| `>=`     \t| Larger than or equal too  \t| `4 >= 3` \t|\n",
    "| `<=`     \t| Smaller than or equal too \t| `2 <= 2` \t|\n",
    "\n",
    "### Logical Operators\n",
    "\n",
    "| Operator \t| Function                                      \t| Example            \t|\n",
    "|----------\t|-----------------------------------------------\t|--------------------\t|\n",
    "| `and`    \t| Returns True if both statements are true      \t| `1 == 1 and 2 < 3` \t|\n",
    "| `or`     \t| Returns True if one of the statements is true \t| `3 == 1 or 1 != 2` \t|\n",
    "| `not`    \t| Returns True if value is falsey                                   \t| `not 1 == 2`       \t|\n",
    "\n",
    "### If Statements\n",
    "Now that you know how conditions can be set, now its time to use them in if statements. This is how a typical if statement looks like."
   ],
   "cell_type": "markdown",
   "metadata": {}
  },
  {
   "cell_type": "code",
   "execution_count": 4,
   "metadata": {},
   "outputs": [
    {
     "output_type": "stream",
     "name": "stdout",
     "text": [
      "3 is in fact, smaller than 5, shocker!\n"
     ]
    }
   ],
   "source": [
    "if 3 < 5:\n",
    "    print(\"3 is in fact, smaller than 5, shocker!\")"
   ]
  },
  {
   "cell_type": "code",
   "execution_count": null,
   "metadata": {},
   "outputs": [],
   "source": [
    "if 9 + 10 == 21:\n",
    "    print(\"You smart\")\n",
    "else:\n",
    "    print(\"Nine plus ten is not 21\")"
   ]
  },
  {
   "cell_type": "code",
   "execution_count": 5,
   "metadata": {},
   "outputs": [],
   "source": [
    "# In fact you can write if statements may different ways\n",
    "if 3 < 2:\n",
    "    print(\"3 is smaller than 2\")\n",
    "elif 1 + 1 == 2:\n",
    "    print(\"1 plus 1 is 2\")\n",
    "else:\n",
    "    print(\"I really need to learn numbers again\")"
   ]
  },
  {
   "source": [
    "### Activity 07\n",
    "Naviagte to `07-conditionals.py` and solve the practice question."
   ],
   "cell_type": "markdown",
   "metadata": {}
  },
  {
   "source": [
    "## 08 Lists and Dictionaries\n",
    "We've seen these before during section 02 Data Types, but let's dig a little deeper. Lists and dictionaries are types of data structures."
   ],
   "cell_type": "markdown",
   "metadata": {}
  },
  {
   "cell_type": "code",
   "execution_count": 9,
   "metadata": {},
   "outputs": [],
   "source": [
    "favouriteCats = [\"Fluffy\", \"Snowball\", \"Mr. Whiskers\"]"
   ]
  },
  {
   "source": [
    "### Lists in Python and many other programming languages are indexed. The first index is 0"
   ],
   "cell_type": "markdown",
   "metadata": {}
  },
  {
   "cell_type": "code",
   "execution_count": null,
   "metadata": {},
   "outputs": [],
   "source": [
    "favouriteCats[0] # Prints Fluffy\n",
    "favouriteCats[1] # Prints Snowball\n",
    "favouriteCats[2] # Prints Mr. Whiskers\n",
    "favouriteCats[3] # IndexError: list index out of range, since there isn't a fourth element in the list"
   ]
  },
  {
   "source": [
    "### You can add to a list by appending an element to it by using .append()"
   ],
   "cell_type": "markdown",
   "metadata": {}
  },
  {
   "cell_type": "code",
   "execution_count": 12,
   "metadata": {},
   "outputs": [],
   "source": [
    "favouriteCats.append(\"Simba\")"
   ]
  },
  {
   "source": [
    "### You can reset the value of an index."
   ],
   "cell_type": "markdown",
   "metadata": {}
  },
  {
   "cell_type": "code",
   "execution_count": 14,
   "metadata": {},
   "outputs": [
    {
     "output_type": "execute_result",
     "data": {
      "text/plain": [
       "'Fluff'"
      ]
     },
     "metadata": {},
     "execution_count": 14
    }
   ],
   "source": [
    "favouriteCats[1] = \"Fluff\""
   ]
  },
  {
   "cell_type": "code",
   "execution_count": 2,
   "metadata": {},
   "outputs": [],
   "source": [
    "cat = {\n",
    "    'name': 'Fluffy',\n",
    "    'age': 15,\n",
    "    'parents': [\"Tommy Wiseau\", \"Lewis Hamilton\"],\n",
    "    'home': {\n",
    "        'city': 'Ottawa',\n",
    "        'country': 'Canada'\n",
    "    }\n",
    "}"
   ]
  },
  {
   "source": [
    "### To access the values we do the following\n"
   ],
   "cell_type": "markdown",
   "metadata": {}
  },
  {
   "cell_type": "code",
   "execution_count": null,
   "metadata": {},
   "outputs": [],
   "source": [
    "cat['name'] # Marky Mark\n",
    "cat['age'] # 49\n",
    "cat['parents'] # [\"Tommy Wiseau\", \"Lewis Hamilton\"]\n",
    "cat['parents'][1] # Lewis Hamilton\n",
    "cat['home']['city'] # Ottawa"
   ]
  },
  {
   "source": [
    "### You can change a property value by equating it to a new value"
   ],
   "cell_type": "markdown",
   "metadata": {}
  },
  {
   "cell_type": "code",
   "execution_count": null,
   "metadata": {},
   "outputs": [],
   "source": [
    "cat['home']['city'] = \"Toronto\""
   ]
  },
  {
   "source": [
    "### You can set a new property with a new value by doing the following"
   ],
   "cell_type": "markdown",
   "metadata": {}
  },
  {
   "cell_type": "code",
   "execution_count": null,
   "metadata": {},
   "outputs": [],
   "source": [
    "cat['breed'] = \"Tabby\""
   ]
  },
  {
   "source": [
    "### We can even have a lists of dicts!! And you can treat them the same. This format is usually referred to as `JSON`."
   ],
   "cell_type": "markdown",
   "metadata": {}
  },
  {
   "cell_type": "code",
   "execution_count": null,
   "metadata": {},
   "outputs": [],
   "source": [
    "cats = [\n",
    "    {\n",
    "        'name': 'Fluffy',\n",
    "        'age': 15,\n",
    "        'parents': [\"Tommy Wiseau\", \"Lewis Hamilton\"],\n",
    "        'home': {\n",
    "            'city': 'Ottawa',\n",
    "            'country': 'Canada'\n",
    "        }\n",
    "    },\n",
    "    {\n",
    "        'name': 'Snowball',\n",
    "        'age': 5,\n",
    "        'parents': [\"Marky Mark\", \"Beyonce\"],\n",
    "        'home': {\n",
    "            'city': 'Amsterdam',\n",
    "            'country': 'Netherlands'\n",
    "        }\n",
    "    },\n",
    "]"
   ]
  },
  {
   "source": [
    "### Activity 08\n",
    "Naviagte to `08-listsanddicts.py` and solve the practice question."
   ],
   "cell_type": "markdown",
   "metadata": {}
  },
  {
   "source": [
    "## 09 For Loops\n",
    "Loops are blocks of code that run on each element of a list. If a list has 10 elements, the block of code will run 10 times."
   ],
   "cell_type": "markdown",
   "metadata": {}
  },
  {
   "cell_type": "code",
   "execution_count": 16,
   "metadata": {},
   "outputs": [
    {
     "output_type": "stream",
     "name": "stdout",
     "text": [
      "Oh Hi Mark\nYou can't handle the truth.\nWait, that's illegal!\n"
     ]
    }
   ],
   "source": [
    "list = [\"Oh Hi Mark\", \"You can't handle the truth.\", \"Wait, that's illegal!\"]\n",
    "for element in list:\n",
    "    # Run some code on element\n",
    "    print(element)"
   ]
  },
  {
   "source": [
    "### Let's loop through a JSON array."
   ],
   "cell_type": "markdown",
   "metadata": {}
  },
  {
   "cell_type": "code",
   "execution_count": 10,
   "metadata": {},
   "outputs": [
    {
     "output_type": "stream",
     "name": "stdout",
     "text": [
      "Fluffy\nSnowball\n"
     ]
    }
   ],
   "source": [
    "cats = [\n",
    "    {\n",
    "        'name': 'Fluffy',\n",
    "        'age': 15,\n",
    "        'parents': [\"Tommy Wiseau\", \"Lewis Hamilton\"],\n",
    "        'home': {\n",
    "            'city': 'Ottawa',\n",
    "            'country': 'Canada'\n",
    "        }\n",
    "    },\n",
    "    {\n",
    "        'name': 'Snowball',\n",
    "        'age': 5,\n",
    "        'parents': [\"Marky Mark\", \"Beyonce\"],\n",
    "        'home': {\n",
    "            'city': 'Amsterdam',\n",
    "            'country': 'Netherlands'\n",
    "        }\n",
    "    }\n",
    "]\n",
    "\n",
    "for cat in cats:\n",
    "    print(cat['name'])"
   ]
  },
  {
   "source": [
    "### Activity 09\n",
    "Naviagte to `09-forloops.py` and solve the practice question."
   ],
   "cell_type": "markdown",
   "metadata": {}
  },
  {
   "source": [
    "## 10 While Loops\n",
    "As you can recall, a for loop runs a block of code `n` times, for an `n` sized array/list. `while` loops run a block of code as long as a condition is true. Think of it as an `if` statement that continues on running over and over again as long as the condition is true."
   ],
   "cell_type": "markdown",
   "metadata": {}
  },
  {
   "cell_type": "code",
   "execution_count": 11,
   "metadata": {},
   "outputs": [
    {
     "output_type": "stream",
     "name": "stdout",
     "text": [
      "index is now 0\nindex is now 1\nindex is now 2\n"
     ]
    }
   ],
   "source": [
    "index = 0\n",
    "while index < 3:\n",
    "    print('index is now', index)\n",
    "    index = index + 1"
   ]
  },
  {
   "source": [
    "### Another Example"
   ],
   "cell_type": "markdown",
   "metadata": {}
  },
  {
   "cell_type": "code",
   "execution_count": 12,
   "metadata": {},
   "outputs": [
    {
     "output_type": "stream",
     "name": "stdout",
     "text": [
      "['']\n"
     ]
    }
   ],
   "source": [
    "run = \"yes\"\n",
    "users = []\n",
    "while run == \"yes\":\n",
    "    newuser = input(\"What's the name of the new user: \")\n",
    "    users.append(newuser)\n",
    "    run = input(\"Do you want to add another user? (yes) \")\n",
    "print(users)"
   ]
  },
  {
   "source": [
    "### Activity 10\n",
    "Naviagte to `09-whileloops.py` and solve the practice question."
   ],
   "cell_type": "markdown",
   "metadata": {}
  },
  {
   "source": [
    "## 11 Functions\n",
    "You may have noticed that when we write code in a script, all code runs when the script runs. What if we want to have some code we want to run by command, whenever we want, however many times we want?\n",
    "\n",
    "We can, by placing our code in a function using the `def` operator. Here's an example."
   ],
   "cell_type": "markdown",
   "metadata": {}
  },
  {
   "cell_type": "code",
   "execution_count": 13,
   "metadata": {},
   "outputs": [],
   "source": [
    "def function_name():\n",
    "    print(\"We called our first function!\")"
   ]
  },
  {
   "source": [
    "Notice how nothing happens when we run the code above? That's because the function was never `called`. So let's call it!"
   ],
   "cell_type": "markdown",
   "metadata": {}
  },
  {
   "cell_type": "code",
   "execution_count": 14,
   "metadata": {},
   "outputs": [
    {
     "output_type": "stream",
     "name": "stdout",
     "text": [
      "We called our first function!\n"
     ]
    }
   ],
   "source": [
    "function_name()"
   ]
  },
  {
   "source": [
    "### What if we want to pass values (`arguments`) to a function?"
   ],
   "cell_type": "markdown",
   "metadata": {}
  },
  {
   "cell_type": "code",
   "execution_count": 15,
   "metadata": {},
   "outputs": [
    {
     "output_type": "execute_result",
     "data": {
      "text/plain": [
       "'Red kinda sus'"
      ]
     },
     "metadata": {},
     "execution_count": 15
    }
   ],
   "source": [
    "def kinda_sus_generator(color):\n",
    "    message = '{} kinda sus'.format(color)\n",
    "    return message\n",
    "\n",
    "kinda_sus_generator(\"Red\")"
   ]
  },
  {
   "source": [
    "### How about passing more than one argument?"
   ],
   "cell_type": "markdown",
   "metadata": {}
  },
  {
   "cell_type": "code",
   "execution_count": 16,
   "metadata": {},
   "outputs": [
    {
     "output_type": "execute_result",
     "data": {
      "text/plain": [
       "'Bruh was not an imposter'"
      ]
     },
     "metadata": {},
     "execution_count": 16
    }
   ],
   "source": [
    "def vote_result_message(name, isImposter):\n",
    "    if isImposter:\n",
    "        return name + \" was an imposter\"\n",
    "    else:\n",
    "        return name + \" was not an imposter\"\n",
    "\n",
    "# Arguments need to follow the order of the function declaration\n",
    "vote_result_message(\"GangGang\", False)\n",
    "# We can also do it like this\n",
    "vote_result_message(name = \"Not An Imposter\", isImposter = True)\n",
    "# You can break the order if you declare what each argument is.\n",
    "vote_result_message(isImposter = False, name = \"Bruh\")\n",
    "\n"
   ]
  },
  {
   "source": [
    "### Abstraction"
   ],
   "cell_type": "markdown",
   "metadata": {}
  },
  {
   "cell_type": "code",
   "execution_count": null,
   "metadata": {},
   "outputs": [],
   "source": [
    "lewis_temperature_F = 102\n",
    "tommy_temperature_F = 98\n",
    "\n",
    "# Let's convert the temperature to Celsius\n",
    "lewis_temperature_C = ((lewis_temperature_F - 32) * 5) / 9\n",
    "tommy_temperature_C = ((tommy_temperature_F - 32) * 5) / 9"
   ]
  },
  {
   "source": [
    "### Notice how we are rewriting similar code multiple times? Seems tedious, so let's do some `abstraction`!"
   ],
   "cell_type": "markdown",
   "metadata": {}
  },
  {
   "cell_type": "code",
   "execution_count": null,
   "metadata": {},
   "outputs": [],
   "source": [
    "def fahernheit_to_celsius(temperature_in_fahernheit):\n",
    "    return ((temperature_in_fahernheit - 32) * 5) / 9\n",
    "\n",
    "# Now back to our example\n",
    "lewis_temperature_F = 102\n",
    "tommy_temperature_F = 98\n",
    "\n",
    "lewis_temperature_C = fahernheit_to_celsius(lewis_temperature_F) # Whatever the function returns is the value of the variable\n",
    "tommy_temperature_C = fahernheit_to_celsius(tommy_temperature_F)"
   ]
  },
  {
   "source": [
    "### Scoping"
   ],
   "cell_type": "markdown",
   "metadata": {}
  },
  {
   "cell_type": "code",
   "execution_count": 19,
   "metadata": {},
   "outputs": [
    {
     "output_type": "execute_result",
     "data": {
      "text/plain": [
       "3"
      ]
     },
     "metadata": {},
     "execution_count": 19
    }
   ],
   "source": [
    "x = 1\n",
    "def add_to_x(y):\n",
    "    # Notice how we can still use x even though it's outside the function?\n",
    "    return x + y\n",
    "add_to_x(2)"
   ]
  },
  {
   "cell_type": "code",
   "execution_count": 20,
   "metadata": {},
   "outputs": [
    {
     "output_type": "error",
     "ename": "NameError",
     "evalue": "name 'y' is not defined",
     "traceback": [
      "\u001b[0;31m---------------------------------------------------------------------------\u001b[0m",
      "\u001b[0;31mNameError\u001b[0m                                 Traceback (most recent call last)",
      "\u001b[0;32m<ipython-input-20-ed38d269b67b>\u001b[0m in \u001b[0;36m<module>\u001b[0;34m\u001b[0m\n\u001b[1;32m      1\u001b[0m \u001b[0;31m# But if we try to print y\u001b[0m\u001b[0;34m\u001b[0m\u001b[0;34m\u001b[0m\u001b[0;34m\u001b[0m\u001b[0m\n\u001b[0;32m----> 2\u001b[0;31m \u001b[0my\u001b[0m\u001b[0;34m\u001b[0m\u001b[0;34m\u001b[0m\u001b[0m\n\u001b[0m",
      "\u001b[0;31mNameError\u001b[0m: name 'y' is not defined"
     ]
    }
   ],
   "source": [
    "# But if we try to print y\n",
    "y"
   ]
  },
  {
   "source": [
    "### Activity 11\n",
    "Navigate to activity file `11-functions.py` and solve the problem."
   ],
   "cell_type": "markdown",
   "metadata": {}
  },
  {
   "source": [
    "## 12 Lambda Functions\n",
    "A lambda function is a small anonymous function. It can take any number of arguments, but can only have one expression. Think of it as a mini one-liner function.\n",
    "\n",
    "Let's use the previous fahernheit_to_celsius function as an example."
   ],
   "cell_type": "markdown",
   "metadata": {}
  },
  {
   "cell_type": "code",
   "execution_count": 18,
   "metadata": {},
   "outputs": [
    {
     "output_type": "execute_result",
     "data": {
      "text/plain": [
       "0.0"
      ]
     },
     "metadata": {},
     "execution_count": 18
    }
   ],
   "source": [
    "fahernheit_to_celsius = lambda t: ((t - 32) * 5) / 9\n",
    "fahernheit_to_celsius(32)"
   ]
  },
  {
   "source": [
    "### Activity 12\n",
    "Navigate to activity file `12-lambda.py` and solve the problem."
   ],
   "cell_type": "markdown",
   "metadata": {}
  },
  {
   "source": [
    "## 13 Classes\n",
    "A Class is like an object constructor, or a \"blueprint\" for creating objects. Classes can be used as a collection of related functions and variables. To create a class, use the keyword `class`:"
   ],
   "cell_type": "markdown",
   "metadata": {}
  },
  {
   "cell_type": "code",
   "execution_count": 23,
   "metadata": {},
   "outputs": [],
   "source": [
    "# Notice how the classname is capitalized\n",
    "class Math:\n",
    "    def addition(x, y):\n",
    "        return x + y\n",
    "    def subtraction(x, y):\n",
    "        return x - y\n",
    "    def multiplication(x, y):\n",
    "        return x * y"
   ]
  },
  {
   "cell_type": "code",
   "execution_count": 24,
   "metadata": {},
   "outputs": [
    {
     "output_type": "execute_result",
     "data": {
      "text/plain": [
       "3"
      ]
     },
     "metadata": {},
     "execution_count": 24
    }
   ],
   "source": [
    "# To use a function in the class, first we have to create an instance of the class.\n",
    "math = Math()\n",
    "Math.addition(1, 2)"
   ]
  },
  {
   "source": [
    "### Activity 13\n",
    "Navigate to activity file `13-classes.py` and solve the problem."
   ],
   "cell_type": "markdown",
   "metadata": {}
  },
  {
   "source": [
    "## 14 Instantiation\n",
    "Recall when we referred to class objects as blueprints? We can have a class with properties that persist throughout the runtime of the app. When we create an instance of the class, defining the class' properties, we are instantiating. We can have multiple different instances of a class. When a class has dyanmic properties, we usually refer to it as a dynamic object. Let's dig in to it. "
   ],
   "cell_type": "markdown",
   "metadata": {}
  },
  {
   "cell_type": "code",
   "execution_count": null,
   "metadata": {},
   "outputs": [],
   "source": [
    "# Recall our past STATIC class\n",
    "class Math:\n",
    "    def addition(x, y):\n",
    "        return x + y\n",
    "    def subtraction(x, y):\n",
    "        return x - y\n",
    "    def multiplication(x, y):\n",
    "        return x * y"
   ]
  },
  {
   "source": [
    "### Let's convert it to a dynamic class\n",
    "First we need to define `__init__()` function, other programming languages refer to this function as the `constructor` function. The first parameter the constructor function needs is the `self` parameter. The self parameter is a reference to the current instance of the class, and is used to access variables that belongs to the class.\n",
    "\n",
    "It does not have to be named self , you can call it whatever you like, but it has to be the first parameter of the class' functions.\n",
    "\n",
    "We use `self` to store the class' properties."
   ],
   "cell_type": "markdown",
   "metadata": {}
  },
  {
   "cell_type": "code",
   "execution_count": null,
   "metadata": {},
   "outputs": [],
   "source": [
    "# Let's convert it to a dynamic class\n",
    "class Math:\n",
    "    def __init__(self, x, y):\n",
    "        self.x = x\n",
    "        self.y = y"
   ]
  },
  {
   "source": [
    "### Class properties\n",
    "Since we are storing `x` and `y` in `self` as class properties, we don't have to take in the variables again to run the rest of the functions."
   ],
   "cell_type": "markdown",
   "metadata": {}
  },
  {
   "cell_type": "code",
   "execution_count": 29,
   "metadata": {},
   "outputs": [],
   "source": [
    "class Math:\n",
    "    def __init__(self, x, y):\n",
    "        self.x = x\n",
    "        self.y = y\n",
    "    def addition(self):\n",
    "        return self.x + self.y\n",
    "    def subtraction(self):\n",
    "        return self.x - self.y\n",
    "    def multiplication(self):\n",
    "        return self.x * self.y"
   ]
  },
  {
   "source": [
    "### Let's Run It"
   ],
   "cell_type": "markdown",
   "metadata": {}
  },
  {
   "cell_type": "code",
   "execution_count": 30,
   "metadata": {},
   "outputs": [
    {
     "output_type": "execute_result",
     "data": {
      "text/plain": [
       "3"
      ]
     },
     "metadata": {},
     "execution_count": 30
    }
   ],
   "source": [
    "x_is_1_y_is_2 = Math(x = 1, y = 2)\n",
    "x_is_1_y_is_2.addition()"
   ]
  },
  {
   "source": [
    "### Doesn't Make Sense?\n",
    "Fear not, many of my students struggle with this concept. Let's cover another example. "
   ],
   "cell_type": "markdown",
   "metadata": {}
  },
  {
   "cell_type": "code",
   "execution_count": 31,
   "metadata": {},
   "outputs": [],
   "source": [
    "class Box:\n",
    "    def __init__(self, name, color, width, length, height, mass):\n",
    "        self.name = name\n",
    "        self.color = color\n",
    "        self.width = width\n",
    "        self.length = length\n",
    "        self.height = height\n",
    "        self.mass = mass\n",
    "\n",
    "    def volume(self):\n",
    "        return self.width * self.length * self.height\n",
    "\n",
    "    def density(self):\n",
    "        return self.mass / self.volume()"
   ]
  },
  {
   "cell_type": "code",
   "execution_count": 34,
   "metadata": {},
   "outputs": [
    {
     "output_type": "execute_result",
     "data": {
      "text/plain": [
       "'XBox'"
      ]
     },
     "metadata": {},
     "execution_count": 34
    }
   ],
   "source": [
    "xbox = Box(name = \"XBox\", color = \"white\", width = 15.1, length = 15.1, height = 30.1, mass = 4.25)\n",
    "\n",
    "xbox.volume()\n",
    "xbox.density()\n",
    "xbox.name"
   ]
  },
  {
   "source": [
    "## 15 Modules Imports\n",
    "Complex programs are comprised of multiple classes, functions and objects spanning multiple files. If you have an object in a separate file, how do you use it on the file you're working on? You can import objects from different files by using the `import` operator. "
   ],
   "cell_type": "markdown",
   "metadata": {}
  },
  {
   "cell_type": "code",
   "execution_count": null,
   "metadata": {},
   "outputs": [],
   "source": [
    "import filename"
   ]
  },
  {
   "source": [
    "### Aliases \n",
    "You may even import the file as a different name"
   ],
   "cell_type": "markdown",
   "metadata": {}
  },
  {
   "cell_type": "code",
   "execution_count": null,
   "metadata": {},
   "outputs": [],
   "source": [
    "import filename as fn"
   ]
  },
  {
   "source": [
    "### Activity 14\n",
    "Navigate to activity file `14-instantiation.py` and solve the problem."
   ],
   "cell_type": "markdown",
   "metadata": {}
  },
  {
   "source": [
    "## Import From\n",
    "What if the file has mutliple objects and you would like to import a specifi function. You would then use `import function from filename`"
   ],
   "cell_type": "markdown",
   "metadata": {}
  },
  {
   "cell_type": "code",
   "execution_count": null,
   "metadata": {},
   "outputs": [],
   "source": [
    "# Let's say this is a file called math.py\n",
    "def addition(x, y):\n",
    "    return x + y\n",
    "def subtraction(x, y):\n",
    "    return x - y\n",
    "def multiplication(x, y):\n",
    "    return x * y"
   ]
  },
  {
   "cell_type": "code",
   "execution_count": null,
   "metadata": {},
   "outputs": [],
   "source": [
    "# Importing the file\n",
    "import math\n",
    "math.addition(x = 1, y = 2)\n",
    "\n",
    "# To import addition from math.py\n",
    "import addition from math\n",
    "\n",
    "# You may also mix and match with the as operator\n",
    "import addition from math as add"
   ]
  },
  {
   "source": [
    "### Activity 15\n",
    "Navigate to activity file `15-moduleimports.py` and solve the problem."
   ],
   "cell_type": "markdown",
   "metadata": {}
  },
  {
   "source": [
    "## 16 Pip\n",
    "We covered how to import modules we have written our selves in different files. But what if I tell you can import functions and objects from modules written by the helpful engineers of the world.\n",
    "\n",
    "We would have to use `pip`. `pip` is python's package installer and manager. They have a repository of free and open-source code that was authored by engineers all over the world. We use `pip` to install packages and modules from others, so that we wouldn't have to write functions from scratch on our own. It also helps us abstract some functionalities in our program. \n",
    "\n",
    "You may peruse pip packages at https://pypi.org/\n",
    "\n",
    "For instance there is a package called `numpy`. `numpy` is a statistical package for python.\n",
    "\n",
    "### Installing From Pip.\n",
    "If you have been running your python scripts using the `python` handle, you can run your `pip` commands as such.\n",
    "\n",
    "```sh \n",
    "$ pip install numpy\n",
    "```\n",
    "If you have been running your python scripts using the `python3` handle, you can run your `pip` commands as such.\n",
    "```sh \n",
    "$ pip3 install numpy\n",
    "```\n",
    "\n",
    "### Using the package you've installed"
   ],
   "cell_type": "markdown",
   "metadata": {}
  },
  {
   "cell_type": "code",
   "execution_count": 37,
   "metadata": {},
   "outputs": [
    {
     "output_type": "stream",
     "name": "stdout",
     "text": [
      "4.0\n"
     ]
    }
   ],
   "source": [
    "import numpy \n",
    "\n",
    "# We can then start using the functions that come with numpy, let's find a mean of a list.\n",
    "mean = numpy.mean([1,3,6,6])\n",
    "print(mean)"
   ]
  },
  {
   "source": [
    "### Activity 16\n",
    "Navigate to activity file `16-pip.py` and solve the problem."
   ],
   "cell_type": "markdown",
   "metadata": {}
  },
  {
   "source": [
    "## 17 Try Except\n",
    "Notice how when there is an error in our script, our program grinds to halt and an error message is printed out. What if we wanted to control what happens in the scenario where the program has erred? We can plan for this unfortunate outcome by using the `try` and `except` operators. Essentially, we are running a block of code within the `try` scope; if an error occurs from the block of the code, then we run the code in the `except` block as a contingency plan."
   ],
   "cell_type": "markdown",
   "metadata": {}
  },
  {
   "cell_type": "code",
   "execution_count": 40,
   "metadata": {},
   "outputs": [
    {
     "output_type": "stream",
     "name": "stdout",
     "text": [
      "You tried to set an illegal variable\n"
     ]
    }
   ],
   "source": [
    "try:\n",
    "    print(variable_that_does_not_exist)\n",
    "except:\n",
    "    print(\"You tried to print a variable that does not exist\")"
   ]
  },
  {
   "source": [
    "### Raising Our Own Errors\n",
    "What if we want to create our own errors? Then we can `raise Exception()` an error"
   ],
   "cell_type": "markdown",
   "metadata": {}
  },
  {
   "cell_type": "code",
   "execution_count": 42,
   "metadata": {},
   "outputs": [
    {
     "output_type": "stream",
     "name": "stdout",
     "text": [
      "An error was raised\n"
     ]
    }
   ],
   "source": [
    "def adults_only(age):\n",
    "    if age < 18:\n",
    "        raise Exception(\"Too young!\")\n",
    "    else: \n",
    "        print(\"Let's Party!\")\n",
    "\n",
    "try:\n",
    "    adults_only(16)\n",
    "except:\n",
    "    print(\"An error was raised\")"
   ]
  },
  {
   "source": [
    "### Activity 17\n",
    "Navigate to activity file 17-tryexcept.py and solve the problem."
   ],
   "cell_type": "markdown",
   "metadata": {}
  },
  {
   "source": [
    "## Congratulations!\n",
    "You have persevered and succeded! May the knowledge you have gained from this workshop bring you academic, professional and personal growth. \n",
    "\n",
    "Please let us know how we did, you may send your feedback to https://tavanystems.com/contact-us"
   ],
   "cell_type": "markdown",
   "metadata": {}
  },
  {
   "source": [
    "## Citations\n",
    "[1] W3schools.com. 2020. Python Casting. [online] Available at: <https://www.w3schools.com/python/python_casting.asp> [Accessed 10 October 2020].\n",
    "\n",
    "[2] W3schools.com. 2020. Python Variables. [online] Available at: <https://www.w3schools.com/python/python_variables.asp> [Accessed 10 October 2020]."
   ],
   "cell_type": "markdown",
   "metadata": {}
  }
 ],
 "metadata": {
  "kernelspec": {
   "name": "Python 3.7.3 64-bit",
   "display_name": "Python 3.7.3 64-bit",
   "metadata": {
    "interpreter": {
     "hash": "aee8b7b246df8f9039afb4144a1f6fd8d2ca17a180786b69acc140d282b71a49"
    }
   }
  },
  "language_info": {
   "codemirror_mode": {
    "name": "ipython",
    "version": 3
   },
   "file_extension": ".py",
   "mimetype": "text/x-python",
   "name": "python",
   "nbconvert_exporter": "python",
   "pygments_lexer": "ipython3",
   "version": "3.7.3-final"
  }
 },
 "nbformat": 4,
 "nbformat_minor": 2
}