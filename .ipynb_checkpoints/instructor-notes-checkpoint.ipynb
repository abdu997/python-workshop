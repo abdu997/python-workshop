{
 "cells": [
  {
   "cell_type": "markdown",
   "metadata": {},
   "source": [
    "# Welcome to the Python Beginner's Workshop\n",
    "\n",
    "## Introduction\n",
    "My name is Abdul Amoud, I'm a software developer at Tavan Systems, Tavan Systems is a software and business solutions company based in Ottawa, ON. Although, I work as a software developer, I studied Mathematics at uOttawa. I held a few software and web development positions at multiple organizations including the Government of Canada and the Bank of Canada. I have also served as a Teachers Assistant for a coding course through Carleton University and TrilogyEd.\n",
    "\n",
    "Which should serve as a testament that you need not a CS or SoftEng degree to author good code. Anyone of you can become a skilled programmer, all it takes is time and persistence.\n",
    "\n",
    "The purpose of this workshop is to get you familiar with programming. We chose Python because it's one of the easiest  Object Oriented Programming (OOP) languages, its use cases are limitless, it has many resources online, it's very popular among the software development community, and starting with Python will give you enough foundations to shift to another programming language.\n",
    "\n",
    "With Python you can build a website, write automation scripts to automate your daily life, process some data using data science techniques, run a machine learning algorithm, build mobile and desktop apps, build robots, and a thousand other use cases. \n",
    "\n",
    "### Are we going to cover all of that? \n",
    "The answer is no. We will cover the underlying fundemental methods and tools of Python such as objects, loops etc. With these methods and tools, you'll have enough knowledge to enter other niched topics such as ML and Web Development. \n",
    "\n",
    "Keep in mind, whether you're building a website or running a machine learning algorithm, you'll still be using these fundemental tools and methods. When you choose a programming niche, you're extending on these methods with new methods and techinques specific to that niche. For example, if you want to use Python for machine learning, you'll have to learn how to use the Keras or Tensor Flow extension. But you'll still be defining variables and using objects i.e. the material we will cover in this workshop.\n",
    "\n",
    "### Resources\n",
    "I based this workshop on the W3Schools Python Tutorial, because I believe its very beginner friendly, and to be frank, it's where I started with Python. However, it is not the exact same as I think some parts could be explained better, some parts can be omitted and some parts should have been added. Feel free to go through their tutorial [here](https://w3schools.com/python).\n",
    "\n",
    "## Let's get started!\n",
    "Any questions before we start? Anyone need to run to the washroom? No? Well alright then!\n",
    "\n",
    "### What you will need\n",
    "1. An Integrated Development Environment (IDE): Please download VS Code [here](https://code.visualstudio.com/download).\n",
    "    * Add the code runner extension.\n",
    "    \n",
    "2. Python 3 or larger: Download it [here](https://www.python.org/downloads/).\n",
    "3. Download the course content [here](https://github.com/abdu997/python-workshop).\n",
    "    * Click \"Code\" \n",
    "    * Then click \"Download Zip\"\n",
    "    \n",
    "4. For Windows users, download Git Bash [here](https://gitforwindows.org/).\n"
   ]
  },
  {
   "cell_type": "code",
   "execution_count": null,
   "metadata": {},
   "outputs": [],
   "source": []
  },
  {
   "cell_type": "code",
   "execution_count": null,
   "metadata": {},
   "outputs": [],
   "source": []
  },
  {
   "cell_type": "code",
   "execution_count": null,
   "metadata": {},
   "outputs": [],
   "source": []
  }
 ],
 "metadata": {
  "kernelspec": {
   "display_name": "Python 3",
   "language": "python",
   "name": "python3"
  },
  "language_info": {
   "codemirror_mode": {
    "name": "ipython",
    "version": 3
   },
   "file_extension": ".py",
   "mimetype": "text/x-python",
   "name": "python",
   "nbconvert_exporter": "python",
   "pygments_lexer": "ipython3",
   "version": "3.7.3"
  }
 },
 "nbformat": 4,
 "nbformat_minor": 2
}
